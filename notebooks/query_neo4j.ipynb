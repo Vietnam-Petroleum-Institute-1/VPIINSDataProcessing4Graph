{
 "cells": [
  {
   "cell_type": "code",
   "execution_count": 1,
   "metadata": {},
   "outputs": [],
   "source": [
    "import json, os\n",
    "from open_ai import MyOAI\n",
    "from neo4j import GraphDatabase\n",
    "# load env\n",
    "from dotenv import load_dotenv; load_dotenv()\n",
    "\n",
    "NEO4J_URI=os.environ['NEO4J_URI']\n",
    "NEO4J_USERNAME=os.environ['NEO4J_USERNAME']\n",
    "NEO4J_PASSWORD=os.environ['NEO4J_PASSWORD']\n",
    "API_KEY=os.environ['API_KEY']\n",
    "\n",
    "OAI = MyOAI(api_key=API_KEY, chat_model=\"gpt-3.5-turbo-1106\")\n",
    "driver = GraphDatabase.driver(NEO4J_URI, auth=(NEO4J_USERNAME, NEO4J_PASSWORD))"
   ]
  },
  {
   "cell_type": "code",
   "execution_count": 2,
   "metadata": {},
   "outputs": [],
   "source": [
    "SCHEMA = \"\"\"\n",
    "Node properties are the following:\n",
    "\n",
    "Block {{id: STRING, name: STRING, geojson: STRING, area: STRING, description: STRING, status: STRING}},\n",
    "Block contains the unique name: ['15-1/15', '15-2', '15-2/01', '15-2/17', '15-2/14', '16-1', '16-1/15', '16-2', '17', '02/97', '18', '25', '26', '27', '31', '32', '33', '34', '35', 'DBSCL-01', '01/10', 'DBSCL-02', 'DBSCL-03', 'DBSCL-04', '09-3/12', '09-3/17', '09-2/17b', '09-2/09', '09-2/17a', '02/10', '09-1', '09-2', '09-2/10', '09-3', '15-1', '01/97', '15-1/05']\n",
    "\n",
    "Well {{id: STRING, name: STRING, geojson: STRING, field_id: STRING, full_name: STRING, operator_id: STRING, well_alias: STRING, well_type: STRING}},\n",
    "\n",
    "Prospect {{id: STRING, name: STRING, description: STRING, operator_id: STRING, class: STRING}},\n",
    "Prospect contains the unique name: ['Agate', 'Ruby', 'Gau Den-South', 'Gau Trang', 'Gau Xam', 'Lead 1', 'Lead 2', 'Lead 3', 'Lead 4', 'Duong Dong', 'Gio Dong', 'Phuong Dong', 'Spinel', 'Rang Dong', 'Vung Dong', 'B', 'S', 'P', 'Hai Su Bac', 'Hai Su Den', 'Hai Su Nau', 'Hai Su Trang', 'Hai Su Vang', 'Topaz', 'Ba Den', 'Ba Vi', 'Tam Dao', 'Ngua O', 'Te Giac Cam', '16-1-D', 'Te Giac Den', 'Te Giac Hong', 'Te Giac Bac', 'Te Giac Lam', 'Topaz North', 'Te Giac Trang', 'Te Giac Vang', 'Te Giac Xam', 'Voi Nau', 'Voi Trang', 'Voi Vang', '16-1-B1', '16-1-B2', 'Bao Gam', 'Bao Vang', 'Turquoise', 'Lang Biang', '16-2-A', '16-2-B', 'Doi Nau', 'Ha Ma Xam', 'Ha Ma Trang', 'Ha Ma Den', 'Ha Ma Nau', 'Ha Ma Vang', 'Ha Ma Xam West', 'Zircon', 'Ha Ma Xam East', 'Ha Ma Xam South', 'Doi Xam', 'Doi Xam West', 'Doi Den', 'Doi Vang', 'Doi Trang', 'Doi Do', '16-2 F', '16-2 Lead A', 'Ho Xam', '16-2 Lead B', '16-2 Lead C', 'Cam', 'Chom Chom', 'Du Du', 'Nho', 'Vai Thieu', 'Sau Rieng', '17-A', 'Tom Hum Xanh', 'Ho Xam South', '31-A', '31-B', '31-C', '31-D', '31-E', '31-F', 'Hau Giang', 'Long Xuyen', 'Cuu Long', 'Tom Su Lua', 'Ho Den', 'Doi', 'Doi North', 'Ruong', 'Song', 'Ca map', 'Ca Sau', 'Ca Kiem', 'Su Tu Bien', 'Ca Chuon', 'Ca Lang', 'Ho Den South', 'Ca Luoi Trau', 'Ca Ngua', 'Ca Dao', 'Cho Bien Xam', 'Rai Ca Bien', 'Ca Voi Xanh', 'Bach Tuoc', 'Ca Heo', 'Cho Bien Xam North', 'Cho Bien Xam South', 'Amethyst', 'Ho Vang', 'Ca Ngu Vi Dai', '118-B', 'Cay Tre', 'Cay Quat', 'Hoa Mai', 'Cay Dua', 'C2', 'Hoa Dao', 'Hoa Phuong', 'Cay Lua', 'Quartz', '102-E', '102-AN1', '102-AN2', '102-SW', '102-V', '102-W', '102-X', '115-A', '115-Lead2', '115-Lead3', 'Ho Bac', 'Hong Hac', 'Rua Bien', 'Ca Lang (120)', 'Qua Nhan', 'Qua Vai', 'Qua Dua', 'Kinh Ngu Vang', 'Bach Ho', 'Doi Moi', 'Bao Vang-16.2', 'Beryl', 'Bach Long', 'Dia Long', 'Do Son', 'G', 'H', 'Ha Long', 'Hac Long', 'Ham Rong', 'Ham Rong Dong', 'Ham Rong Nam', 'Opal', 'Hoang Long', 'Ky Lan', 'Pa', 'Pha Lai', 'Sapa', 'Su Tu Nau North', 'Su Tu Vang North East', 'Thai Binh', 'Yen Tu', 'Su Tu Nau South', 'Garnet', 'Block PM3 CCA', 'Cai Nuoc', 'Chim Sao', 'D14', 'Dai Hung', 'Dong Quan D', 'Dua', 'Hai Thach', 'Lan Do', 'Jade', 'Lan Tay', 'Moc Tinh', 'Rong Doi - Rong Doi Tay', 'Song Doc', 'Thien Ung', 'Tien Hai C', 'Sapphire', 'Dong Do', 'Thang Long C', 'Amethyst NE', 'Thang Long', 'Thang Long B', 'Thang Long D', 'Rong', 'Bac Bach Ho', 'Tay-Bac Bach Ho', 'Nam Bach Ho', 'Tho Trang', 'Bao Trang', 'Amethyst SW', 'Meo Trang', 'DB', 'MC', 'TU', 'Otter', '09-2-A', '09-2-B', '09-2-C', '09-2-D', '09-2-E', 'Azurite', 'Ca Ong Doi', 'Ca Ngu Vang', 'Kinh Ngu Trang', 'Kinh Ngu Trang Nam', 'Song Ngu', 'Hai Cau', 'Fox', 'Soi', 'Soi C', 'Soi T -East', 'Diamond', 'Soi T -West', 'Soi B', 'Soi TB1', 'Soi TB2', 'Doi Moi Bac', 'Nam Rong - Doi Moi', 'Doi Moi Dong', 'Doi Moi Nam', 'Doi Moi DN', 'Dong-Bac Rong', 'Emerald', 'Yen Ngua - Rong', 'Tay-Bac Rong', 'Ca Tam', '15-A', '15-B', '15-C', '15-D', '15-E', '15-F', '15-G', 'Moonstone', '15-I', '15-1-A', '15-1-B', '15-1-B North', '15-1-C', '15-1-D', 'Su Tu Chua', 'Su Tu Den', 'Su Tu Nau', 'Su Tu Trang', 'Pearl', 'Su Tu Vang', 'Lac Da Nau', 'Lac Da Nau_North', 'Lac Da Nau_South', 'Lac Da Nau_Center +Northeast', 'Lac Da Vang', 'Lac Da Xam', 'La Da Den', 'Lac Da Trang', 'Gau Den-North']\n",
    "\n",
    "WindOffshoreProject {{id: STRING, name: STRING, geojson: STRING, status: STRING, capacity: STRING}},\n",
    "WindOffshoreProject contains the unique name: ['Thang Long Wind', 'Ke Ga A Wind Farm', 'La Gan Wind Farm', 'Ke Ga B Wind Farm', 'Khai Long (intertidal)', 'Ngoc Hien', 'Tan An 1 - 30 MW phase 2021-2025 (intertidal)', 'Tan An 1 - phase 1 (intertidal)', 'Tan An 1 - 45 MW phase 2021-2025 (intertidal)', 'Ca Mau (intertidal) phase 1', 'Tan Thuan (intertidal) - phase two', 'Dong Hai I', 'Hoa Binh 2 (intertidal)', 'Bac Lieu - phase III (intertidal)', 'Phu Cuong 1', 'Phu Cuong 2+', 'Soc Trang 7 - phase 1 (intertidal)', 'V1-7 - Dong Hai 1 - Trung Nam (intertidal)', 'V1-1 - Truong Long Hoa (intertidal)', 'Ben Tre 2 (intertidal) - Nexif 2 + 3', 'Ben Tre 7 (intertidal)', 'Tan Phu Dong 1 (intertidal)']\n",
    "\n",
    "Investor {{id: STRING, name: STRING}},\n",
    "Investor contains the unique name: ['Enterprize Energy Group', 'Cuong Thinh Group', 'Copenhagen Infrastructure Partners,AsiaPetro,Novasia Energy Company Ltd', 'Bamboo Capital Group (previously CP Super Wind Energy Công Lý 1)', 'Gia Lai Electricity Joint Stock Company (GEC)', 'Song Lam Investment Hydropower JSC (CTCP Đầu Tư Thủy Điện Sông Lam)', 'WTO: Trading Construction Works Organization', 'Bắc Phương Energy Joint Stock Company', 'Phuong Anh Group', 'Cong Ly Construction-Trading-Tourism Co., Ltd. (Công Ty TNHH XD - TM -DL Công Lý),Super Wind Energy Company Limited,Super Wind Energy Công Lý\\xa0Bạc Liêu', 'Phu Cuong Group,Mainstream Renewable Power', 'Soc Trang Energy Joint Stock Company', 'Trungnam Group (Công ty Cổ phần Đầu tư Xây dựng Trung Nam)', 'Climate Investor One,Samtan Co., Ltd (ST International)', 'Nexif Energy,Ratch', 'Ben Tre Renewable Energy - BTRE (Công ty cổ phần năng lượng tái tạo Bến Tre)', 'PECC2 - Power Engineering Consulting Joint Stock Company 2,Ca Mau Investment Renewable Power Joint Stock Company (CMC),Phan Vu Group', 'Corio Generation Limited,FECON Power JSC', 'HBRE - H & Brothers Renewable Energy', 'Corio Generation Limited', 'T&T Group JSC; Orsted A/S', 'Orsted']\n",
    "\n",
    "Technology {{id: STRING, name: STRING, type: STRING}}\n",
    "Technology contains the unique name: ['Wind Power']\n",
    "\n",
    "Relationship properties are the following:\n",
    "\n",
    "The relationships are the following:\n",
    "(:Block)-[:CÓ_GIẾNG_KHOAN]->(:Well),\n",
    "(:Block)-[:CÓ_CẤU_TẠO]->(:Prospect),\n",
    "(:Well)-[:KHOAN_VÀO_CẤU_TẠO]->(:Prospect),\n",
    "(:Well)-[:THUỘC_LÔ]->(:Block),\n",
    "(:Prospect)-[:CÓ_GIẾNG_KHOAN]->(:Well),\n",
    "(:Prospect)-[:THUỘC_LÔ]->(:Block),\n",
    "(:WindOffshoreProject)-[:THUỘC_VỀ]->(:Investor),\n",
    "(:WindOffshoreProject)-[:THUỘC_NHÓM]->(:Technology),\n",
    "(:Investor)-[:ĐẦU_TƯ]->(:WindOffshoreProject),\n",
    "(:Technology)-[:CÓ]->(:WindOffshoreProject)\n",
    "\"\"\"\n",
    "\n",
    "PROMPT = \"\"\"\n",
    "You are master in create CYPHER query. Based on the below information of Neo4j Database, create CYPHER query from user's nature language question.\n",
    "Always return added geojson property if has.\n",
    "CYPHER SCHEMA:\n",
    "{schema}\n",
    "\n",
    "USER QUERY:\n",
    "{user_question}\n",
    "\n",
    "EXAMPLE:\n",
    "User: What is the area of the block named '15-1/15'?\n",
    "Return: MATCH (b:Block {{name: '15-1/15'}}) RETURN b.area b.geojson\n",
    "\n",
    "CYPHER QUERY:\n",
    "\n",
    "\"\"\"\n",
    "QA_PROMPT = \"\"\"\n",
    "You are master in answer question using information from CYPHER results. \n",
    "Based on the below information of CYPHER results, answer user's query.\n",
    "Alway answer in the given JSON structure, which is already load to json.loads()\n",
    "Answer JSON structure: {{'answer':'...', 'geojson':'...'}}\n",
    "The answer must be in Vietnamese.\n",
    "If Cypher return geojson content, return it in json format.\n",
    "\n",
    "CYPHER QUERY:\n",
    "{query}\n",
    "\n",
    "CYPHER RESULT:\n",
    "{result}\n",
    "\n",
    "USER QUESTION:\n",
    "{user_question}\n",
    "\n",
    "ANSWER:\n",
    "\"\"\""
   ]
  },
  {
   "cell_type": "code",
   "execution_count": 3,
   "metadata": {},
   "outputs": [],
   "source": [
    "def query_kg(q_):\n",
    "    res = OAI.get_chat(prompt=PROMPT.format(schema=SCHEMA, user_question=q_))\n",
    "    c_res = driver.execute_query(query_=res.content, database='neo4j')\n",
    "    qa_res = OAI.get_chat(prompt=QA_PROMPT.format(query=res.content, result=c_res[0][0], user_question=q_))\n",
    "    data = json.loads(qa_res.content)\n",
    "    print(\"CYPHER QUERY:\", res.content, \"\\n\")\n",
    "    print(\"CYPHER RESULT:\", c_res[0][0], \"\\n\")\n",
    "    print(\"ANSWER:\", data['answer'], \"\\n\")\n",
    "    print(\"GEOJSON:\", data['geojson'], \"\\n\")\n",
    "    return qa_res.content"
   ]
  },
  {
   "cell_type": "code",
   "execution_count": 4,
   "metadata": {},
   "outputs": [
    {
     "name": "stdout",
     "output_type": "stream",
     "text": [
      "CYPHER QUERY: MATCH (b:Block)-[:CÓ_CẤU_TẠO]->(p:Prospect {name: 'Phuong Dong'}) RETURN b, p.geojson \n",
      "\n",
      "CYPHER RESULT: <Record b=<Node element_id='4:255449de-67d9-45ce-b654-a96d7022b418:1' labels=frozenset({'Block'}) properties={'geojson': '{\"type\":\"Feature\",\"geometry\":{\"type\": \"Polygon\", \"coordinates\": [[[108.45, 10.139583], [108.45, 10], [108.383333, 10], [108.383333, 9.985742], [108.282333, 9.9], [108.183333, 9.9], [108.183333, 10], [108.45, 10.139583]]]}}', 'area': '417.50', 'name': '15-2', 'description': 'Lô 15-2 nằm ở ngoài khơi Việt Nam  thuộc bể Cửu Long  ranh giới tiếp giáp với các lô 01&02  02/10  09-2/09  09-2  09-2/10  15-2/17  có diện tích khoảng 417 5 km2. Hiện tại lô 15-2 được điều hành bởi JVPC.', 'id': 'CL12', 'status': 'Close'}> p.geojson=None> \n",
      "\n",
      "ANSWER: Lô 15-2 có triển vọng Phương Đông. \n",
      "\n",
      "GEOJSON: {'type': 'Feature', 'geometry': {'type': 'Polygon', 'coordinates': [[[108.45, 10.139583], [108.45, 10], [108.383333, 10], [108.383333, 9.985742], [108.282333, 9.9], [108.183333, 9.9], [108.183333, 10], [108.45, 10.139583]]]}} \n",
      "\n"
     ]
    }
   ],
   "source": [
    "q_ = \"Which block has Phuong Dong prospect?\"\n",
    "qc = query_kg(q_)"
   ]
  }
 ],
 "metadata": {
  "kernelspec": {
   "display_name": "booksage",
   "language": "python",
   "name": "python3"
  },
  "language_info": {
   "codemirror_mode": {
    "name": "ipython",
    "version": 3
   },
   "file_extension": ".py",
   "mimetype": "text/x-python",
   "name": "python",
   "nbconvert_exporter": "python",
   "pygments_lexer": "ipython3",
   "version": "3.11.5"
  }
 },
 "nbformat": 4,
 "nbformat_minor": 2
}
